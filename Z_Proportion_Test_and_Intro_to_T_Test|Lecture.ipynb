{
  "nbformat": 4,
  "nbformat_minor": 0,
  "metadata": {
    "colab": {
      "provenance": [],
      "authorship_tag": "ABX9TyPUl+k075WTDEZXx/I7aiF7",
      "include_colab_link": true
    },
    "kernelspec": {
      "name": "python3",
      "display_name": "Python 3"
    },
    "language_info": {
      "name": "python"
    }
  },
  "cells": [
    {
      "cell_type": "markdown",
      "metadata": {
        "id": "view-in-github",
        "colab_type": "text"
      },
      "source": [
        "<a href=\"https://colab.research.google.com/github/SachinScaler/Oct24HypothesisTesting/blob/main/Z_Proportion_Test_and_Intro_to_T_Test%7CLecture.ipynb\" target=\"_parent\"><img src=\"https://colab.research.google.com/assets/colab-badge.svg\" alt=\"Open In Colab\"/></a>"
      ]
    },
    {
      "cell_type": "code",
      "execution_count": 1,
      "metadata": {
        "id": "rl_WPmOcJYZ_"
      },
      "outputs": [],
      "source": [
        "import numpy as np\n",
        "import scipy.stats as stats\n"
      ]
    },
    {
      "cell_type": "code",
      "source": [
        "satisfied_customers = 115\n",
        "total_customers = 150\n",
        "\n",
        "# target specified under null hypothesis\n",
        "target_satisfaction = 0.70  # 70%"
      ],
      "metadata": {
        "id": "IVcrB0YXRcMB"
      },
      "execution_count": 2,
      "outputs": []
    },
    {
      "cell_type": "code",
      "source": [
        "p = target_satisfaction\n",
        "p_hat = satisfied_customers / total_customers # from sample data observation\n",
        "n = total_customers\n",
        "alpha = 0.05\n",
        "\n",
        "Z = (p_hat - p) / np.sqrt((p * (1 - p)) / n)\n",
        "Z"
      ],
      "metadata": {
        "colab": {
          "base_uri": "https://localhost:8080/"
        },
        "id": "AfNLUpZjRijS",
        "outputId": "a311b3ed-c5a0-43bc-d26f-3c5bf9e7c465"
      },
      "execution_count": 3,
      "outputs": [
        {
          "output_type": "execute_result",
          "data": {
            "text/plain": [
              "1.7817416127494983"
            ]
          },
          "metadata": {},
          "execution_count": 3
        }
      ]
    },
    {
      "cell_type": "code",
      "source": [
        "p_value = 2 * (1 - stats.norm.cdf(np.abs(Z)))\n",
        "p_value"
      ],
      "metadata": {
        "colab": {
          "base_uri": "https://localhost:8080/"
        },
        "id": "06QkCXC6Rxtz",
        "outputId": "30895b22-87bf-48c9-fadc-59715bf241c9"
      },
      "execution_count": 4,
      "outputs": [
        {
          "output_type": "execute_result",
          "data": {
            "text/plain": [
              "0.07479137758694376"
            ]
          },
          "metadata": {},
          "execution_count": 4
        }
      ]
    },
    {
      "cell_type": "code",
      "source": [
        "# Print the results\n",
        "print(f\"Z-statistic = {Z}\")\n",
        "print(f\"P-value = {p_value}\")"
      ],
      "metadata": {
        "colab": {
          "base_uri": "https://localhost:8080/"
        },
        "id": "0MMKfSozSwEc",
        "outputId": "e82e520d-589e-415c-aaaa-55cf48df8fdb"
      },
      "execution_count": 5,
      "outputs": [
        {
          "output_type": "stream",
          "name": "stdout",
          "text": [
            "Z-statistic = 1.7817416127494983\n",
            "P-value = 0.07479137758694376\n"
          ]
        }
      ]
    },
    {
      "cell_type": "code",
      "source": [
        "if p_value < alpha:\n",
        "    decision = \"Reject the null hypothesis\"\n",
        "else:\n",
        "    decision = \"Fail to reject the null hypothesis\"\n",
        "\n",
        "if decision == \"Reject the null hypothesis\":\n",
        "    conclusion = \"There is enough evidence to conclude that the proportion of satisfied customers with the new product is statistically different from the target satisfaction level.\"\n",
        "else:\n",
        "    conclusion = \"There is not enough evidence to conclude that the proportion of satisfied customers with the new product is statistically different from the target satisfaction level.\"\n",
        "\n",
        "# Print the results\n",
        "print(f\"Decision: {decision}\")\n",
        "print(f\"Conclusion: {conclusion}\")"
      ],
      "metadata": {
        "colab": {
          "base_uri": "https://localhost:8080/"
        },
        "id": "WF25-eVyS7uD",
        "outputId": "57be8097-3e87-44db-c2c2-99e53be6d3cb"
      },
      "execution_count": 6,
      "outputs": [
        {
          "output_type": "stream",
          "name": "stdout",
          "text": [
            "Decision: Fail to reject the null hypothesis\n",
            "Conclusion: There is not enough evidence to conclude that the proportion of satisfied customers with the new product is statistically different from the target satisfaction level.\n"
          ]
        }
      ]
    },
    {
      "cell_type": "markdown",
      "source": [
        "```\n",
        "A researcher is studying the satisfaction level of customers after implementing a new customer service system.\n",
        "They collected survey responses from 250 customers and found that 65 of them were dissatisfied with the new system.\n",
        "\n",
        "The researcher wants to test the null hypothesis that no more than 30% of customers are dissatisfied with the new system.\n",
        "Use the p-value technique to test the claim with a significance level of α = 0.05.\n",
        "\n",
        "```"
      ],
      "metadata": {
        "id": "snEFYXijVB8E"
      }
    },
    {
      "cell_type": "code",
      "source": [
        "# ho: p <= 0.3\n",
        "# ha: p > 0.3\n",
        "n = 250 # Sample size\n",
        "x = 65 # Number of customers dissatisfied with the new system\n",
        "p_hat = x/n # Sample proportion\n",
        "p = 0.30 # Hypothesized proportion"
      ],
      "metadata": {
        "id": "gr2r2kksTEc-"
      },
      "execution_count": 7,
      "outputs": []
    },
    {
      "cell_type": "code",
      "source": [
        "# Calculate test statistic value for one sample proportion test\n",
        "Z = (p_hat - p) / np.sqrt((p * (1 - p)) / n)\n",
        "print('Test statistic:', Z)"
      ],
      "metadata": {
        "colab": {
          "base_uri": "https://localhost:8080/"
        },
        "id": "u5fbq5suVz6s",
        "outputId": "bc4c2195-74b6-4795-9568-f03344ecac15"
      },
      "execution_count": 8,
      "outputs": [
        {
          "output_type": "stream",
          "name": "stdout",
          "text": [
            "Test statistic: -1.3801311186847078\n"
          ]
        }
      ]
    },
    {
      "cell_type": "code",
      "source": [
        "P_value = 1 - stats.norm.cdf(Z)\n",
        "print('P-value:', P_value)"
      ],
      "metadata": {
        "colab": {
          "base_uri": "https://localhost:8080/"
        },
        "id": "A2aaK9EVV329",
        "outputId": "bfe7c481-f152-4b01-8d2a-e83c4e2cfbf5"
      },
      "execution_count": 9,
      "outputs": [
        {
          "output_type": "stream",
          "name": "stdout",
          "text": [
            "P-value: 0.9162268612556912\n"
          ]
        }
      ]
    },
    {
      "cell_type": "code",
      "source": [
        "alpha = 0.05\n",
        "# Make a decision based on the p-value and significance level\n",
        "if p_value < alpha:\n",
        "  print('Reject the null hypothesis.')\n",
        "else:\n",
        "  print('Fail to reject the null hypothesis.')\n"
      ],
      "metadata": {
        "colab": {
          "base_uri": "https://localhost:8080/"
        },
        "id": "q_KsunqcWRt7",
        "outputId": "dfa972ac-7624-4fdd-9478-0013f98c9630"
      },
      "execution_count": 10,
      "outputs": [
        {
          "output_type": "stream",
          "name": "stdout",
          "text": [
            "Fail to reject the null hypothesis.\n"
          ]
        }
      ]
    },
    {
      "cell_type": "markdown",
      "source": [
        "### Two Prop Test"
      ],
      "metadata": {
        "id": "oirVVHqRaOch"
      }
    },
    {
      "cell_type": "code",
      "source": [
        "### webpageA, webpageB\n",
        "conversions = [50, 30]\n",
        "visits = [1000, 500]\n",
        "\n",
        "# ho: p1 = p2\n",
        "# resume@8:22"
      ],
      "metadata": {
        "id": "9phzFvIfWrpa"
      },
      "execution_count": 11,
      "outputs": []
    },
    {
      "cell_type": "markdown",
      "source": [],
      "metadata": {
        "id": "Gp0z9kNucXPU"
      }
    },
    {
      "cell_type": "code",
      "source": [],
      "metadata": {
        "id": "CnFbtzV6aeai"
      },
      "execution_count": 11,
      "outputs": []
    },
    {
      "cell_type": "code",
      "source": [
        "import statsmodels.api as sm\n",
        "import numpy as np\n",
        "\n",
        "# Define the data\n",
        "conversions = [50, 30]  # Number of conversions for Web Page A and Web Page B # x_1, x_2\n",
        "visits = [1000, 500] # Number of visits for Web Page A and Web Page B # n_1, n_2\n",
        "\n",
        "# Perform the Z-proportions test\n",
        "z_stat, p_value = sm.stats.proportions_ztest(\n",
        "    conversions,\n",
        "    visits,\n",
        "    value = 0,\n",
        "    alternative='two-sided' # type of test\n",
        "    )\n",
        "\n",
        "# Print the results\n",
        "print(f\"Z-statistic = {z_stat}\")\n",
        "print(f\"P-value = {p_value}\")"
      ],
      "metadata": {
        "colab": {
          "base_uri": "https://localhost:8080/"
        },
        "id": "ibM0WpOPa4JR",
        "outputId": "feb62860-2dab-4275-e2f4-825e01e5fa55"
      },
      "execution_count": 12,
      "outputs": [
        {
          "output_type": "stream",
          "name": "stdout",
          "text": [
            "Z-statistic = -0.8125338562826986\n",
            "P-value = 0.4164853677823287\n"
          ]
        }
      ]
    },
    {
      "cell_type": "code",
      "source": [
        "alpha = 0.05\n",
        "# Make a decision and conclusion\n",
        "if p_value < alpha:\n",
        "    decision = \"Reject the null hypothesis\"\n",
        "else:\n",
        "    decision = \"Fail to reject the null hypothesis\"\n",
        "\n",
        "if decision == \"Reject the null hypothesis\":\n",
        "    conclusion = \"There is enough evidence to conclude that the conversion rates of the new web page (Web Page B) are statistically different from the old web page (Web Page A).\"\n",
        "else:\n",
        "    conclusion = \"There is not enough evidence to conclude that the conversion rates of the new web page (Web Page B) are statistically different from the old web page (Web Page A).\"\n",
        "\n",
        "# Print the results\n",
        "print(f\"Decision: {decision}\")\n",
        "print(f\"Conclusion: {conclusion}\")"
      ],
      "metadata": {
        "id": "6tmeWoH7a5gf",
        "colab": {
          "base_uri": "https://localhost:8080/"
        },
        "outputId": "4c4d29e8-f682-40e1-ee08-2b394aa3fdc8"
      },
      "execution_count": 13,
      "outputs": [
        {
          "output_type": "stream",
          "name": "stdout",
          "text": [
            "Decision: Fail to reject the null hypothesis\n",
            "Conclusion: There is not enough evidence to conclude that the conversion rates of the new web page (Web Page B) are statistically different from the old web page (Web Page A).\n"
          ]
        }
      ]
    },
    {
      "cell_type": "code",
      "source": [
        "x_1 = conversions[0]\n",
        "x_2 = conversions[1]\n",
        "\n",
        "n_1 = visits[0]\n",
        "n_2 = visits[1]\n",
        "\n",
        "p1 = conversions[0]/visits[0]\n",
        "p2 = conversions[1]/visits[1]\n",
        "\n",
        "\n",
        "p_hat = (x_1 + x_2) / (n_1 + n_2)\n",
        "p_hat\n",
        "\n",
        "# 2 * (1 - stats.norm.cdf(np.abs(z)))"
      ],
      "metadata": {
        "colab": {
          "base_uri": "https://localhost:8080/"
        },
        "id": "FNi3nM9ydj4P",
        "outputId": "ff1cb1e8-f426-4761-87e9-da7bde4394b4"
      },
      "execution_count": 14,
      "outputs": [
        {
          "output_type": "execute_result",
          "data": {
            "text/plain": [
              "0.05333333333333334"
            ]
          },
          "metadata": {},
          "execution_count": 14
        }
      ]
    },
    {
      "cell_type": "markdown",
      "source": [
        "## T-Test"
      ],
      "metadata": {
        "id": "f-gUKCwSlqhQ"
      }
    },
    {
      "cell_type": "code",
      "source": [
        "iq_scores = [110, 105, 98, 102, 99, 104, 115, 95]\n",
        "np.mean(iq_scores)"
      ],
      "metadata": {
        "colab": {
          "base_uri": "https://localhost:8080/"
        },
        "id": "t-uhLkBIdzmz",
        "outputId": "9703808a-40bf-4471-90ae-e47be816709e"
      },
      "execution_count": 15,
      "outputs": [
        {
          "output_type": "execute_result",
          "data": {
            "text/plain": [
              "103.5"
            ]
          },
          "metadata": {},
          "execution_count": 15
        }
      ]
    },
    {
      "cell_type": "code",
      "source": [
        "from scipy.stats import ttest_1samp\n",
        "\n",
        "# Perform one-sample t-test\n",
        "t_statistic, p_value = ttest_1samp(iq_scores, popmean=100)\n",
        "\n",
        "# Print the results\n",
        "print(f\"T-statistic = {t_statistic}\")\n",
        "print(f\"P-value = {p_value}\")"
      ],
      "metadata": {
        "colab": {
          "base_uri": "https://localhost:8080/"
        },
        "id": "neGQ2JD1lsua",
        "outputId": "0d7014f4-3514-49a2-c554-67fe3ccb7707"
      },
      "execution_count": 16,
      "outputs": [
        {
          "output_type": "stream",
          "name": "stdout",
          "text": [
            "T-statistic = 1.5071573172061195\n",
            "P-value = 0.1754994493585011\n"
          ]
        }
      ]
    },
    {
      "cell_type": "code",
      "source": [
        "alpha = 0.01\n",
        "# Make a decision based on the p-value and significance level\n",
        "if p_value < alpha:\n",
        "  print('Reject the null hypothesis.')\n",
        "  print(\"Pill has statistically signifcant effect\")\n",
        "else:\n",
        "  print('Fail to reject the null hypothesis.')\n",
        "  print(\"Pill has no effect\")"
      ],
      "metadata": {
        "colab": {
          "base_uri": "https://localhost:8080/"
        },
        "id": "TRzJMnyHl0-1",
        "outputId": "5f9afab6-8dc2-4a00-f817-a7eb4d6192ae"
      },
      "execution_count": 17,
      "outputs": [
        {
          "output_type": "stream",
          "name": "stdout",
          "text": [
            "Fail to reject the null hypothesis.\n",
            "Pill has no effect\n"
          ]
        }
      ]
    },
    {
      "cell_type": "code",
      "source": [],
      "metadata": {
        "id": "0aiAX0AHqM0S"
      },
      "execution_count": 17,
      "outputs": []
    },
    {
      "cell_type": "markdown",
      "source": [
        "## Practice Questions\n",
        "Q1: A researcher is studying the satisfaction level of customers after implementing a new customer service system. They collected survey responses from 250 customers and found that 65 of them were dissatisfied with the new system.\n",
        "The researcher wants to test the null hypothesis that no more than 30% of customers are dissatisfied with the new system.\n",
        "Use the p-value technique to test the claim with a significance level of α = 0.05\n",
        "\n",
        "\n",
        "Q2:\n",
        "```\n",
        "A company introduces a new feature in its mobile App that allows users to subscribe to a premium service.\n",
        "They want to evaluate if the introduction of this feature has led to an increase in the number of premium users.\n",
        "They collect data from two different time periods: before the feature was introduced (Group A) and after the feature was introduced (Group B).\n",
        "Which test should you use to determine if the new feature has significantly increased in the number of premium users?\n",
        "```\n",
        "\n",
        "- One Sample Z-Test\n",
        "- Two Sample Z-Test\n",
        "- One Sample Z-Proportion Test\n",
        "- Two Sample Z-Proportion Test\n",
        "\n",
        "Q3:\n",
        "```\n",
        "A shoe manufacturer claims that their new running shoes make people run faster.\n",
        "To test this claim, they select two groups: Group A wears the new shoes, and Group B wears the old ones.\n",
        "After a 4-week trial, you find that Group A improved their running speed by 15%, while Group B improved by only 10%.\n",
        "Which test should you use to determine if the new shoes are more effective?\n",
        "```\n",
        "- One Sample Z-Test\n",
        "- Two Sample Z-Test\n",
        "- One Sample Z-Proportion Test\n",
        "- Two Sample Z-Proportion Test\n",
        "\n",
        "q4:\n",
        "```\n",
        "Out of a sample of 1,000 people residing in Maharashtra, 540 are rice eaters, while the rest consume wheat primarily.\n",
        "\n",
        "Can we assume that rice and wheat are equally popular in this state at a 5% significance level?\n",
        "```\n"
      ],
      "metadata": {
        "id": "wHnv8p_nqITy"
      }
    },
    {
      "cell_type": "markdown",
      "source": [
        "q5:\n",
        "```\n",
        "A private school claims that their stundent have higher IQ due to a special curriculum.\n",
        "Suppose we have IQ data samples across of a private school filter in series `private_school_sample`\n",
        "\n",
        "1) By Analysing the data below, which test do you think will be most suitable for to test this claim?\n",
        "- One Sample Z-Test\n",
        "- Two Sample Z-Test\n",
        "- One Sample T-Test\n",
        "- Two Sample T-Test\n",
        "\n",
        "2) Which tailed test would be applicable for above claim.\n",
        "- two tailed\n",
        "- left tailed\n",
        "- right tailed\n",
        "\n",
        "3) Implement the test and share your insight.\n",
        "\n",
        "use alpha = 0.05\n",
        "```"
      ],
      "metadata": {
        "id": "_5bXzN_PrX5V"
      }
    },
    {
      "cell_type": "code",
      "source": [
        "!wget --no-check-certificate https://drive.google.com/uc?id=1qSiKRk_9fNmTWsEDWqOygwcGrU-XuINw -O iq_two_schools.csv"
      ],
      "metadata": {
        "colab": {
          "base_uri": "https://localhost:8080/"
        },
        "id": "QA4ybesql8uA",
        "outputId": "7850fa68-3d6f-4c83-b9cf-86402ee9daf8"
      },
      "execution_count": 18,
      "outputs": [
        {
          "output_type": "stream",
          "name": "stdout",
          "text": [
            "--2024-10-24 05:53:49--  https://drive.google.com/uc?id=1qSiKRk_9fNmTWsEDWqOygwcGrU-XuINw\n",
            "Resolving drive.google.com (drive.google.com)... 172.253.62.102, 172.253.62.113, 172.253.62.138, ...\n",
            "Connecting to drive.google.com (drive.google.com)|172.253.62.102|:443... connected.\n",
            "HTTP request sent, awaiting response... 303 See Other\n",
            "Location: https://drive.usercontent.google.com/download?id=1qSiKRk_9fNmTWsEDWqOygwcGrU-XuINw [following]\n",
            "--2024-10-24 05:53:49--  https://drive.usercontent.google.com/download?id=1qSiKRk_9fNmTWsEDWqOygwcGrU-XuINw\n",
            "Resolving drive.usercontent.google.com (drive.usercontent.google.com)... 172.253.115.132, 2607:f8b0:4004:c06::84\n",
            "Connecting to drive.usercontent.google.com (drive.usercontent.google.com)|172.253.115.132|:443... connected.\n",
            "HTTP request sent, awaiting response... 200 OK\n",
            "Length: 639 [application/octet-stream]\n",
            "Saving to: ‘iq_two_schools.csv’\n",
            "\n",
            "iq_two_schools.csv  100%[===================>]     639  --.-KB/s    in 0s      \n",
            "\n",
            "2024-10-24 05:53:51 (29.3 MB/s) - ‘iq_two_schools.csv’ saved [639/639]\n",
            "\n"
          ]
        }
      ]
    },
    {
      "cell_type": "code",
      "source": [
        "import pandas as pd\n",
        "\n",
        "df_iq = pd.read_csv('/content/iq_two_schools.csv')\n",
        "private_school_samples = df_iq[df_iq['School'] == 'school_1']['iq']\n",
        "private_school_samples.head()"
      ],
      "metadata": {
        "colab": {
          "base_uri": "https://localhost:8080/",
          "height": 256
        },
        "id": "0uVS8HBdruWp",
        "outputId": "d1691e84-88ca-45e9-dd7a-1082ed926394"
      },
      "execution_count": 19,
      "outputs": [
        {
          "output_type": "execute_result",
          "data": {
            "text/plain": [
              "0     91\n",
              "1     95\n",
              "2    110\n",
              "3    112\n",
              "4    115\n",
              "Name: iq, dtype: int64"
            ],
            "text/html": [
              "<div>\n",
              "<style scoped>\n",
              "    .dataframe tbody tr th:only-of-type {\n",
              "        vertical-align: middle;\n",
              "    }\n",
              "\n",
              "    .dataframe tbody tr th {\n",
              "        vertical-align: top;\n",
              "    }\n",
              "\n",
              "    .dataframe thead th {\n",
              "        text-align: right;\n",
              "    }\n",
              "</style>\n",
              "<table border=\"1\" class=\"dataframe\">\n",
              "  <thead>\n",
              "    <tr style=\"text-align: right;\">\n",
              "      <th></th>\n",
              "      <th>iq</th>\n",
              "    </tr>\n",
              "  </thead>\n",
              "  <tbody>\n",
              "    <tr>\n",
              "      <th>0</th>\n",
              "      <td>91</td>\n",
              "    </tr>\n",
              "    <tr>\n",
              "      <th>1</th>\n",
              "      <td>95</td>\n",
              "    </tr>\n",
              "    <tr>\n",
              "      <th>2</th>\n",
              "      <td>110</td>\n",
              "    </tr>\n",
              "    <tr>\n",
              "      <th>3</th>\n",
              "      <td>112</td>\n",
              "    </tr>\n",
              "    <tr>\n",
              "      <th>4</th>\n",
              "      <td>115</td>\n",
              "    </tr>\n",
              "  </tbody>\n",
              "</table>\n",
              "</div><br><label><b>dtype:</b> int64</label>"
            ]
          },
          "metadata": {},
          "execution_count": 19
        }
      ]
    },
    {
      "cell_type": "markdown",
      "source": [
        "q6:\n",
        "```\n",
        "Suppose we have IQ data samples across 2 schools: a private School and a public School.\n",
        "\n",
        "We want to compare and see if there's significant difference in IQ of the two schools.\n",
        "\n",
        "1) By Analysing the data below, which test do you think will be most suitable for this activity?\n",
        "- One Sample Z-Test\n",
        "- Two Sample Z-Test\n",
        "- One Sample T-Test\n",
        "- Two Sample T-Test\n",
        "\n",
        "2) Which tailed test would be applicable for above claim.\n",
        "- two tailed\n",
        "- left tailed\n",
        "- right tailed\n",
        "\n",
        "3) Implement the test and share your insight.\n",
        "\n",
        "use alpha = 0.05\n",
        "```"
      ],
      "metadata": {
        "id": "BzKYlAtEFSp0"
      }
    },
    {
      "cell_type": "code",
      "source": [
        "import pandas as pd\n",
        "\n",
        "df_iq = pd.read_csv('/content/iq_two_schools.csv')\n",
        "df_iq.groupby('School')['iq'].mean()"
      ],
      "metadata": {
        "colab": {
          "base_uri": "https://localhost:8080/",
          "height": 195
        },
        "id": "SAlEIGFHsCgX",
        "outputId": "5f7d910f-5174-4ffd-8e45-41872ea8e61c"
      },
      "execution_count": 20,
      "outputs": [
        {
          "output_type": "execute_result",
          "data": {
            "text/plain": [
              "School\n",
              "school_1    101.153846\n",
              "school_2    109.416667\n",
              "Name: iq, dtype: float64"
            ],
            "text/html": [
              "<div>\n",
              "<style scoped>\n",
              "    .dataframe tbody tr th:only-of-type {\n",
              "        vertical-align: middle;\n",
              "    }\n",
              "\n",
              "    .dataframe tbody tr th {\n",
              "        vertical-align: top;\n",
              "    }\n",
              "\n",
              "    .dataframe thead th {\n",
              "        text-align: right;\n",
              "    }\n",
              "</style>\n",
              "<table border=\"1\" class=\"dataframe\">\n",
              "  <thead>\n",
              "    <tr style=\"text-align: right;\">\n",
              "      <th></th>\n",
              "      <th>iq</th>\n",
              "    </tr>\n",
              "    <tr>\n",
              "      <th>School</th>\n",
              "      <th></th>\n",
              "    </tr>\n",
              "  </thead>\n",
              "  <tbody>\n",
              "    <tr>\n",
              "      <th>school_1</th>\n",
              "      <td>101.153846</td>\n",
              "    </tr>\n",
              "    <tr>\n",
              "      <th>school_2</th>\n",
              "      <td>109.416667</td>\n",
              "    </tr>\n",
              "  </tbody>\n",
              "</table>\n",
              "</div><br><label><b>dtype:</b> float64</label>"
            ]
          },
          "metadata": {},
          "execution_count": 20
        }
      ]
    },
    {
      "cell_type": "code",
      "source": [],
      "metadata": {
        "id": "bpJeSmYBJGAz"
      },
      "execution_count": null,
      "outputs": []
    },
    {
      "cell_type": "code",
      "source": [],
      "metadata": {
        "id": "w82a7qluJGDa"
      },
      "execution_count": null,
      "outputs": []
    },
    {
      "cell_type": "code",
      "source": [],
      "metadata": {
        "id": "zPfrewBPJGG9"
      },
      "execution_count": null,
      "outputs": []
    },
    {
      "cell_type": "markdown",
      "source": [],
      "metadata": {
        "id": "tPqZYrBTHK7E"
      }
    },
    {
      "cell_type": "markdown",
      "source": [],
      "metadata": {
        "id": "ZMSusYqQHK4b"
      }
    },
    {
      "cell_type": "markdown",
      "source": [
        "#### Experiment with two sample Z-Test even though sample size is 25"
      ],
      "metadata": {
        "id": "XbZQKfmzHK13"
      }
    },
    {
      "cell_type": "code",
      "source": [
        "import numpy as np\n",
        "import statsmodels.stats.weightstats as stests\n",
        "# import a library to perform a Z-test\n",
        "from statsmodels.stats import weightstats as stests\n",
        "from scipy import stats\n",
        "\n",
        "\n",
        "\n",
        "\n",
        "# fetch data\n",
        "school_1 = df_iq[df_iq['School'] == 'school_1']['iq']\n",
        "school_2 = df_iq[df_iq['School'] == 'school_2']['iq']\n",
        "\n",
        "# Perform two-sample Z-test\n",
        "z_score, pval = stests.ztest(x1 = school_1,\n",
        "                             x2 = school_2,\n",
        "                             value = 0, # difference between pop1mean and pop2mean\n",
        "                             alternative = 'two-sided'\n",
        "                             )\n",
        "\n",
        "print(f\"Z-statistic: {z_score}, p-value: {p_value}\")\n",
        "# Step 7: Compare p-value with significance level (usually 0.05)\n",
        "if p_value < 0.05:\n",
        "    print(\"Reject the null hypothesis: There's a significant difference between the means.\")\n",
        "else:\n",
        "    print(\"Fail to reject the null hypothesis: There's no significant difference between the means.\")\n"
      ],
      "metadata": {
        "colab": {
          "base_uri": "https://localhost:8080/"
        },
        "id": "fAXkczBvFXKJ",
        "outputId": "531ac7d0-0e3d-49fc-96f2-57a78af49b72"
      },
      "execution_count": 31,
      "outputs": [
        {
          "output_type": "stream",
          "name": "stdout",
          "text": [
            "Z-statistic: -2.4056474861512704, p-value: 0.016143834070283906\n",
            "Reject the null hypothesis: There's a significant difference between the means.\n"
          ]
        }
      ]
    },
    {
      "cell_type": "markdown",
      "source": [
        "- Notice the Slight difference in results since n i.e 25 is close to 30"
      ],
      "metadata": {
        "id": "rG5L-CQ4Hkdm"
      }
    },
    {
      "cell_type": "code",
      "source": [],
      "metadata": {
        "id": "heiGqKUrIvFP"
      },
      "execution_count": null,
      "outputs": []
    }
  ]
}