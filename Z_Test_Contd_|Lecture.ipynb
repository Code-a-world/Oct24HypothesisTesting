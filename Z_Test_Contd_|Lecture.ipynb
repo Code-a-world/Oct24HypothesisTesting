{
  "nbformat": 4,
  "nbformat_minor": 0,
  "metadata": {
    "colab": {
      "provenance": [],
      "authorship_tag": "ABX9TyMQ0AxBBwTUPI7p4nE1ucvt",
      "include_colab_link": true
    },
    "kernelspec": {
      "name": "python3",
      "display_name": "Python 3"
    },
    "language_info": {
      "name": "python"
    }
  },
  "cells": [
    {
      "cell_type": "markdown",
      "metadata": {
        "id": "view-in-github",
        "colab_type": "text"
      },
      "source": [
        "<a href=\"https://colab.research.google.com/github/SachinScaler/Oct24HypothesisTesting/blob/main/Z_Test_Contd_%7CLecture.ipynb\" target=\"_parent\"><img src=\"https://colab.research.google.com/assets/colab-badge.svg\" alt=\"Open In Colab\"/></a>"
      ]
    },
    {
      "cell_type": "markdown",
      "source": [
        "## Power of Test:\n",
        "```\n",
        "Imagine you are a quality control manager at a chocolate factory.\n",
        "You're responsible for ensuring that the average weight of chocolate bars produced in your factory meets a certain standard.\n",
        "\n",
        "The **standard weight** of a chocolate bar is **50 grams**, and it rarely deviates,\n",
        "with a known population **standard deviation** of **2 grams**.\n",
        "To maintain the quality of your chocolate bars, you collect a **sample** of **30 bars** every day and weigh them.\n",
        "You want to know if your production process is still on track and that the average weight of the chocolate bars is 50 grams.\n",
        "You set the significance level (α) to 0.05, and you want to calculate the power of your quality control test.\n",
        "\n",
        "data = [55, 45, 52, 48, 55, 52, 52, 53, 48, 52, 53, 47, 54, 51, 52, 51, 48, 52, 53, 54, 51, 51, 52, 54, 47, 52, 53, 48, 51, 54]\n",
        "\n",
        "```"
      ],
      "metadata": {
        "id": "f4_DwWbkm8Rp"
      }
    },
    {
      "cell_type": "code",
      "execution_count": 26,
      "metadata": {
        "colab": {
          "base_uri": "https://localhost:8080/"
        },
        "id": "LlZKyqHOmeKC",
        "outputId": "d1edffab-3d2f-4b0a-baa4-c2ea057d9ee5"
      },
      "outputs": [
        {
          "output_type": "execute_result",
          "data": {
            "text/plain": [
              "(1.96, -1.96)"
            ]
          },
          "metadata": {},
          "execution_count": 26
        }
      ],
      "source": [
        "import numpy as np\n",
        "from scipy import stats\n",
        "\n",
        "\n",
        "# Given data\n",
        "alpha = 0.05  # Significance level (for a two-tailed test)\n",
        "confidence_level = 1 - alpha  # 95% confidence level\n",
        "sample_size = 30  # Number of chocolate bars in the sample\n",
        "\n",
        "# Calculate the z-critical value for a 5% significance level (as you did previously)\n",
        "z_critical_right = (round(stats.norm.ppf(1 - alpha/2), 4)) #\n",
        "z_critical_left = (round(stats.norm.ppf(alpha/2), 4))\n",
        "z_critical_right, z_critical_left"
      ]
    },
    {
      "cell_type": "code",
      "source": [
        "# Calculate the sample mean (average weight of the chocolate bars)\n",
        "sample_data = [55, 45, 52, 48, 55, 52, 52, 53, 48, 52, 53, 47, 54, 51, 52, 51, 48, 52, 53, 54, 51, 51, 52, 54, 47, 52, 53, 48, 51, 54]\n",
        "samp_mean = np.mean(sample_data)\n",
        "samp_std = np.std(sample_data)\n",
        "\n",
        "# Null hypothesis value (standard weight)\n",
        "hypo_mean = 50 # population weight\n",
        "\n",
        "# Calculate the effect size (difference between sample mean and hypothesized mean)\n",
        "effect_size = (samp_mean - hypo_mean) / samp_std\n",
        "effect_size #(cohen's d)"
      ],
      "metadata": {
        "colab": {
          "base_uri": "https://localhost:8080/"
        },
        "id": "6P-6JmP0-UIa",
        "outputId": "b159f478-750c-4d84-c236-69c20905e8ef"
      },
      "execution_count": 28,
      "outputs": [
        {
          "output_type": "execute_result",
          "data": {
            "text/plain": [
              "0.5261336417646574"
            ]
          },
          "metadata": {},
          "execution_count": 28
        }
      ]
    },
    {
      "cell_type": "code",
      "source": [
        "from statsmodels.stats import power\n",
        "\n",
        "\n",
        "# Use 'zt_ind_solve_power()' to calculate the power of the z-test\n",
        "# ratio=0 it implies that the function assumes equal sample sizes in both groups.\n",
        "# In other words, it assumes that the number of observations in the two groups being compared is the same.\n",
        "power = power.zt_ind_solve_power(effect_size=effect_size,\n",
        "                                 nobs1=sample_size,\n",
        "                                 alpha=alpha,\n",
        "                                 ratio=0,\n",
        "                                 alternative='two-sided') # which tailed test to execute\n",
        "\n",
        "power"
      ],
      "metadata": {
        "colab": {
          "base_uri": "https://localhost:8080/"
        },
        "id": "ShhaZCu7ndN6",
        "outputId": "5e91f654-23c5-455f-95ac-44ada2ae0ebf"
      },
      "execution_count": 29,
      "outputs": [
        {
          "output_type": "execute_result",
          "data": {
            "text/plain": [
              "0.8216812302268112"
            ]
          },
          "metadata": {},
          "execution_count": 29
        }
      ]
    },
    {
      "cell_type": "code",
      "source": [
        "print(\"Effect size:\", effect_size)\n",
        "print('Power of the test:', power)"
      ],
      "metadata": {
        "colab": {
          "base_uri": "https://localhost:8080/"
        },
        "id": "QsI_F-fUne09",
        "outputId": "42b4e815-0a8d-475e-80dc-c82576c067f0"
      },
      "execution_count": null,
      "outputs": [
        {
          "output_type": "stream",
          "name": "stdout",
          "text": [
            "Effect size: 0.5261336417646574\n",
            "Power of the test: 0.8216812302268112\n"
          ]
        }
      ]
    },
    {
      "cell_type": "markdown",
      "source": [
        "\n",
        "- **Effect Size:** The effect size, around 0.53, tells us how much the average weight of the sampled chocolate bars differs from the standard weight. In this case, it suggests a noticeable difference.\n",
        "\n",
        "- **Power of the Test:** With a power of about 82%, there's a good chance that our quality control test will correctly spot any significant difference in the average weight. Essentially, it indicates how well our test can catch deviations from the standard weight, making our quality control process quite effective in maintaining chocolate bar quality.\n",
        "\n",
        "- **Type 2 Error:** The 18% Type 2 error means that there's a chance (18 out of 100 times) our quality control might miss a real issue with the chocolate bar weights. So, even though there could be a difference in the average weight, our test might not catch it every time.\n"
      ],
      "metadata": {
        "id": "Dmp3mNZsn578"
      }
    },
    {
      "cell_type": "markdown",
      "source": [
        "## Two Sample Test"
      ],
      "metadata": {
        "id": "6E5dn7rfoSOl"
      }
    },
    {
      "cell_type": "markdown",
      "source": [
        "### Question 1:\n",
        "```\n",
        "Imagine you're working for a renowned institution like ICMR, WHO, or FDA.\n",
        "Your task is to determine whether two different medicines, M1 and M2, are equally effective in recovery time.\n",
        "\n",
        "You have collected 100 samples for M1 and 90 Samples for M2.\n",
        "```"
      ],
      "metadata": {
        "id": "CkQPv9I3qJQs"
      }
    },
    {
      "cell_type": "code",
      "source": [
        "import random\n",
        "import numpy as np\n",
        "\n",
        "# Set a random seed for reproducibility\n",
        "# Setting random seed to 123 for consistent,\n",
        "# deterministic generation of recovery times across groups.\n",
        "random.seed(123)  # You can use any integer as the seed\n",
        "\n",
        "# Create an empty list to store the recovery times\n",
        "M1_data = []\n",
        "\n",
        "# Generate 100 random recovery times\n",
        "M1_data = np.random.normal(10, 5, 100)\n",
        "\n",
        "print(len(M1_data), (M1_data))"
      ],
      "metadata": {
        "colab": {
          "base_uri": "https://localhost:8080/"
        },
        "id": "oijnIaWFnrxn",
        "outputId": "ca515828-9055-4a1c-b897-34b08ee96ecb"
      },
      "execution_count": 10,
      "outputs": [
        {
          "output_type": "stream",
          "name": "stdout",
          "text": [
            "100 [11.49204954 13.95815343 11.56613054 22.15140353  0.63113305  4.27131332\n",
            " 15.95595838  9.59880567 -0.399906   14.4886755  20.58053795 20.39781607\n",
            "  6.03737075  6.26145788  7.51822589 11.15899412 13.81193918 12.7830074\n",
            " 11.18318321  3.61906473  2.64195131 16.59331911  7.11023613  8.93152893\n",
            " 11.61573633 11.95360995 18.09539526 11.4979783  14.51792017 17.95749372\n",
            " 13.16140002  7.23269914 10.5384864  10.85171836  3.73718204  8.45318992\n",
            "  7.64735835  7.89082685 12.60912852 14.42965605 16.69308521 16.47329099\n",
            "  6.20135453  5.4993573  13.31644011  3.59582074 14.94831387 19.26388182\n",
            "  8.7922817   9.56493346  6.82225053  6.65564549 11.00955966  7.82836769\n",
            " 11.79829394 14.54097152  7.14726858  5.55139235 18.71936582 10.65480203\n",
            "  2.69158207 24.03634363  5.99034827 15.64906489  2.5909193   8.11746318\n",
            " 10.79101929 13.98351015  7.5120691  10.0441019  17.94688695  7.94041798\n",
            " 15.52189267 13.37146245  9.53233906 14.73242942 11.18852972 17.22320417\n",
            " 11.66440541 11.73076176 10.88783631  2.64004336  6.25305553  9.08222946\n",
            "  4.830913    6.52224384 16.16854276  7.31980468 12.73953335 -0.16882273\n",
            "  3.95777435 10.72372363  9.94712522 16.8585662  10.94600258 10.06123322\n",
            "  2.51830396  8.74918424 11.01095327 11.51796719]\n"
          ]
        }
      ]
    },
    {
      "cell_type": "code",
      "source": [
        "\n",
        "random.normal(10, 5, 100).shape"
      ],
      "metadata": {
        "colab": {
          "base_uri": "https://localhost:8080/"
        },
        "id": "mttNlklAKuOd",
        "outputId": "380bf315-ed41-46b1-a8cf-aee33e091598"
      },
      "execution_count": 7,
      "outputs": [
        {
          "output_type": "execute_result",
          "data": {
            "text/plain": [
              "(100,)"
            ]
          },
          "metadata": {},
          "execution_count": 7
        }
      ]
    },
    {
      "cell_type": "code",
      "source": [
        "# Create an empty list to store the recovery times\n",
        "M2_data = []\n",
        "\n",
        "# Generate 90 random recovery times\n",
        "M2_data = np.random.normal(12, 6, 90)\n",
        "\n",
        "# Print the generated data\n",
        "print(len(M2_data), (M2_data))"
      ],
      "metadata": {
        "colab": {
          "base_uri": "https://localhost:8080/"
        },
        "id": "wnT6o1tIKTVM",
        "outputId": "ded5005c-8547-4675-bd8d-65b159f20e2a"
      },
      "execution_count": 20,
      "outputs": [
        {
          "output_type": "stream",
          "name": "stdout",
          "text": [
            "90 [ 7.54702793  1.88841267 10.99707384  5.07377172  9.07013335 10.27537307\n",
            " 10.85027525 -2.80293477  8.35706232 15.62468372 17.88944739 13.36223415\n",
            " 26.36877429  5.89278305 14.3271866   7.15943767  8.57560716 14.15211477\n",
            " 12.6543398  15.49235187 15.18835184 13.85713923 21.85409637 11.45341214\n",
            " 13.08719624  2.48699581  3.34699144  9.70633171  6.90182783 27.21502416\n",
            " 12.52562808 17.14180219 15.05271321  3.7068695  19.76021547  8.81238561\n",
            " 22.32249297  9.35507032 10.95037002 10.44603978 19.81752117 19.97138866\n",
            "  2.57262775 18.68218956  7.40875673 25.87200349 11.81304396 10.46770347\n",
            " 21.49219985 20.93460237 11.22236543  9.87446165  8.10236437  9.231465\n",
            " 13.6901053   8.64637704 11.18880696 11.07399884 13.40274482 15.25190765\n",
            " 10.76504257 19.37533944  8.08929319 12.96604358  7.87015743 16.11250063\n",
            " 15.44312772 13.28203656  5.9727636  18.9810097  12.6289276   1.35338158\n",
            " 21.37551143 15.66469523  9.14712625  4.15525168 17.5810722  -0.31248552\n",
            " -0.42210145  9.20516619 26.22819441  9.1186832  10.81312287 -3.22224166\n",
            " 13.48228739 13.52722704  6.05262549 12.69607655  9.14090141 20.73443593]\n"
          ]
        }
      ]
    },
    {
      "cell_type": "markdown",
      "source": [
        "#### Let's calculate z statistics and p_val using sample data"
      ],
      "metadata": {
        "id": "xaF8kfABpYoG"
      }
    },
    {
      "cell_type": "code",
      "source": [
        "# import a library to perform a Z-test\n",
        "from statsmodels.stats import weightstats as stests\n",
        "from scipy import stats\n",
        "\n",
        "z_score, pval = stests.ztest(x1 = M1_data,\n",
        "                             x2 = M2_data,\n",
        "                             value = 0, # difference between pop1mean and pop2mean\n",
        "                             alternative = 'two-sided'\n",
        "                             )\n",
        "\n",
        "# print the test statistic and corresponding p-value\n",
        "print(\"Z-score: \", z_score)\n",
        "print(\"p-value: \", pval)"
      ],
      "metadata": {
        "colab": {
          "base_uri": "https://localhost:8080/"
        },
        "id": "YW0s3R3FpU_Q",
        "outputId": "f1c35915-4daa-4206-b21e-01b5984015b4"
      },
      "execution_count": 21,
      "outputs": [
        {
          "output_type": "stream",
          "name": "stdout",
          "text": [
            "Z-score:  -1.6929735929454268\n",
            "p-value:  0.09046049377714757\n"
          ]
        }
      ]
    },
    {
      "cell_type": "code",
      "source": [
        "alpha = 0.01\n",
        "\n",
        "if pval < alpha:\n",
        "  print(\"Reject the null hypothesis, (i.e, The recovery time of two medicines are different)\")\n",
        "else:\n",
        "  print(\"Fail to reject the null hypothesis  (i.e, The recovery time of two medicines are same)\")"
      ],
      "metadata": {
        "colab": {
          "base_uri": "https://localhost:8080/"
        },
        "id": "KCIOZt6wM3kD",
        "outputId": "3a2a327b-0205-410a-f359-cd37f780dea3"
      },
      "execution_count": 19,
      "outputs": [
        {
          "output_type": "stream",
          "name": "stdout",
          "text": [
            "Fail to reject the null hypothesis  (i.e, The recovery time of two medicines are same)\n"
          ]
        }
      ]
    },
    {
      "cell_type": "code",
      "source": [],
      "metadata": {
        "id": "wRAM9Ec-M3hs"
      },
      "execution_count": 19,
      "outputs": []
    },
    {
      "cell_type": "code",
      "source": [],
      "metadata": {
        "id": "K2LSuJCzM3fG"
      },
      "execution_count": null,
      "outputs": []
    },
    {
      "cell_type": "markdown",
      "source": [
        "```\n",
        "value = 0 represents the null hypothesis for the z-test.\n",
        "It defines the expected difference between the means of the two samples under the assumption that they are equal.\n",
        "In other words, it assumes that there is no difference in the population means of the two groups.\n",
        "```"
      ],
      "metadata": {
        "id": "U3prZQyTpayl"
      }
    },
    {
      "cell_type": "code",
      "source": [
        "alpha = 0.01\n",
        "\n",
        "if pval < alpha:\n",
        "  print(\"Reject the null hypothesis, (i.e, The recovery time of two medicines are different)\")\n",
        "else:\n",
        "  print(\"Fail to reject the null hypothesis  (i.e, The recovery time of two medicines are same)\")"
      ],
      "metadata": {
        "colab": {
          "base_uri": "https://localhost:8080/"
        },
        "id": "idokuXsKpc-G",
        "outputId": "5181890a-31e1-4914-eab0-18249b3f72bb"
      },
      "execution_count": null,
      "outputs": [
        {
          "output_type": "stream",
          "name": "stdout",
          "text": [
            "Reject the null hypothesis, (i.e, The recovery time of two medicines are different)\n"
          ]
        }
      ]
    },
    {
      "cell_type": "markdown",
      "source": [
        "### Question 2:\n",
        "```\n",
        "A car manufacturer conducted a study to compare the fuel efficiency of two different engine types: Engine X and Engine Y.\n",
        "\n",
        "They collected data from two groups: Group X and Group Y.\n",
        "\n",
        "In Group X, a random sample of 50 cars with Engine X had an average fuel efficiency of 30 miles per gallon (mpg)\n",
        "with a standard deviation of 3 mpg.\n",
        "In Group Y, a random sample of 60 cars with Engine Y had an average fuel efficiency of 32 mpg\n",
        "with a standard deviation of 2.5 mpg.\n",
        "The significance level (α) is set at 0.05. Can it be concluded that one engine type is more fuel-efficient than the other?\n",
        "```\n"
      ],
      "metadata": {
        "id": "Jdr12hWOp-f5"
      }
    },
    {
      "cell_type": "code",
      "source": [
        "import numpy as np\n",
        "from scipy import stats\n",
        "\n",
        "# Given data\n",
        "sample_mean_X = 30 # Average fuel efficiency for Group X (Engine X)\n",
        "sample_mean_Y = 32 # Average fuel efficiency for Group Y (Engine Y)\n",
        "sample_std_X = 3 # Standard deviation for Group X\n",
        "sample_std_Y = 2.5 # Standard deviation for Group Y\n",
        "sample_size_X = 50 # Sample size for Group X\n",
        "sample_size_Y = 60 # Sample size for Group Y\n",
        "\n",
        "significance_level = 0.05\n"
      ],
      "metadata": {
        "id": "-oFyzVuNpqps"
      },
      "execution_count": 27,
      "outputs": []
    },
    {
      "cell_type": "code",
      "source": [
        "# Define the function to calculate the test statistic and corresponding p-value\n",
        "def TwoSampZTest(samp_mean_1, samp_mean_2, samp_std_1, samp_std_2, n1, n2):\n",
        "  # Calculate the test statistic\n",
        "  denominator = np.sqrt((samp_std_1**2 / n1) + (samp_std_2**2 / n2))\n",
        "  z_score = (samp_mean_1 - samp_mean_2) / denominator\n",
        "  return z_score\n"
      ],
      "metadata": {
        "id": "lb3s__DMqAGl"
      },
      "execution_count": 25,
      "outputs": []
    },
    {
      "cell_type": "code",
      "source": [
        "# Calculate the z-score using the function\n",
        "z_score = TwoSampZTest(sample_mean_X, sample_mean_Y, sample_std_X, sample_std_Y, sample_size_X, sample_size_Y)\n",
        "z_score"
      ],
      "metadata": {
        "colab": {
          "base_uri": "https://localhost:8080/"
        },
        "id": "VSCHJrKoqsTl",
        "outputId": "3e82032c-2178-4799-c2a7-3b06da539a1b"
      },
      "execution_count": 26,
      "outputs": [
        {
          "output_type": "execute_result",
          "data": {
            "text/plain": [
              "-3.751832396884334"
            ]
          },
          "metadata": {},
          "execution_count": 26
        }
      ]
    },
    {
      "cell_type": "markdown",
      "source": [
        "# Calculate the two-tailed p-value\n",
        "```\n",
        "if z<0\n",
        "p_value = stats.norm.cdf(abs(z_score))\n",
        "else:\n",
        "p_value = (1 - stats.norm.cdf(abs(z_score))\n",
        "\n",
        "```"
      ],
      "metadata": {
        "id": "8Q2FjizKQ-Xi"
      }
    },
    {
      "cell_type": "code",
      "source": [
        "# Calculate the two-tailed p-value\n",
        "p_value = 2 * (1 - stats.norm.cdf(abs(z_score)))\n",
        "\n",
        "# Compare the p-value to the significance level\n",
        "if p_value < significance_level:\n",
        "  conclusion = \"Reject the null hypothesis. One of the engine is more fuel-efficient.\"\n",
        "else:\n",
        "  conclusion = \"Fail to reject the null hypothesis. No significant difference in fuel efficiency.\"\n",
        "\n",
        "print(f'z-score: {z_score:.4f}')\n",
        "print(f'p-value: {p_value:.4f}')\n"
      ],
      "metadata": {
        "colab": {
          "base_uri": "https://localhost:8080/"
        },
        "id": "DJPrxZvXqvOs",
        "outputId": "4353ad27-bf71-40a8-a0de-37efe78c5d57"
      },
      "execution_count": 34,
      "outputs": [
        {
          "output_type": "stream",
          "name": "stdout",
          "text": [
            "z-score: -3.7518\n",
            "p-value: 0.0002\n"
          ]
        }
      ]
    },
    {
      "cell_type": "code",
      "source": [
        "print(conclusion)"
      ],
      "metadata": {
        "colab": {
          "base_uri": "https://localhost:8080/"
        },
        "id": "Qnrd8gxORi36",
        "outputId": "c51ec181-0c38-4680-829b-8429f4d511cb"
      },
      "execution_count": 35,
      "outputs": [
        {
          "output_type": "stream",
          "name": "stdout",
          "text": [
            "Reject the null hypothesis. One of the engine is more fuel-efficient.\n"
          ]
        }
      ]
    },
    {
      "cell_type": "markdown",
      "source": [
        "HW: Can you try one tailed test to prove engine y is better than x"
      ],
      "metadata": {
        "id": "CDD4WgC2SW5Y"
      }
    },
    {
      "cell_type": "code",
      "source": [],
      "metadata": {
        "id": "LqcJ0wARSQ7Z"
      },
      "execution_count": 36,
      "outputs": []
    },
    {
      "cell_type": "markdown",
      "source": [],
      "metadata": {
        "id": "XxHym1X5SQOM"
      }
    },
    {
      "cell_type": "markdown",
      "source": [],
      "metadata": {
        "id": "fkLCBDS8SQLV"
      }
    },
    {
      "cell_type": "markdown",
      "source": [],
      "metadata": {
        "id": "-ksJP5QmSQI-"
      }
    },
    {
      "cell_type": "markdown",
      "source": [],
      "metadata": {
        "id": "83amxZufSQGl"
      }
    },
    {
      "cell_type": "markdown",
      "source": [
        "### Quiz:\n",
        "**Determine whether there is a statistically significant difference in the average heights of plants grown with fertilizer X and fertilizer Y.**\n",
        "\n",
        "Group A (Fertilizer X):\n",
        "- Heights = [162, 164, 168, 170, 174, 176, 180, 182, 186, 188, 192, 194, 198, 200, 204, 206, 210, 212, 216, 218, 222, 224, 228, 230, 234, 236, 240, 242, 246, 248, 252, 254, 258, 260, 264, 266, 270]\n",
        "\n",
        "Group B (Fertilizer Y):\n",
        "- Heights = [158, 162, 166, 170, 174, 178, 182, 186, 190, 194, 198, 202, 206, 210, 214, 218, 222, 226, 230, 234, 238, 242, 246, 250, 254, 258, 262, 266, 270, 274, 278, 282, 286, 290, 294, 298, 302]\n",
        "\n",
        "Significance Level (α): 0.1"
      ],
      "metadata": {
        "id": "O3k9L-yOrdIE"
      }
    },
    {
      "cell_type": "code",
      "source": [
        "# Null Hypothesis (H0): The average heights of plants grown with fertilizers X and Y are equal (μ₁ = μ₂).\n",
        "# Alternative Hypothesis (Ha): The average heights of plants grown with fertilizers X and Y are different (μ₁ ≠ μ₂).\n",
        "\n",
        "from statsmodels.stats import weightstats as stests\n",
        "\n",
        "# Group A heights\n",
        "heights_a = [162, 164, 168, 170, 174, 176, 180, 182, 186, 188, 192, 194, 198, 200, 204, 206, 210, 212, 216, 218, 222, 224, 228, 230, 234, 236, 240, 242, 246, 248, 252, 254, 258, 260, 264, 266, 270]\n",
        "\n",
        "# Group B heights\n",
        "heights_b = [158, 162, 166, 170, 174, 178, 182, 186, 190, 194, 198, 202, 206, 210, 214, 218, 222, 226, 230, 234, 238, 242, 246, 250, 254, 258, 262, 266, 270, 274, 278, 282, 286, 290, 294, 298, 302]\n",
        "\n",
        "# Significance level\n",
        "alpha = 0.1\n",
        "\n",
        "# Perform the z-test\n",
        "z_stat, p_value = stests.ztest(heights_a, heights_b, value=0, alternative='two-sided')\n",
        "\n",
        "# Print the z-statistic and p-value\n",
        "print(\"z-statistic:\", z_stat)\n",
        "print(\"p-value:\", p_value)\n",
        "\n",
        "# Decision\n",
        "if p_value < alpha:\n",
        "    print(\"Reject the null hypothesis. There is a statistically significant difference in the average heights of plants grown with fertilizer X and Y.\")\n",
        "else:\n",
        "    print(\"Fail to reject the null hypothesis. There is no statistically significant difference in the average heights of plants grown with fertilizer X and Y.\")"
      ],
      "metadata": {
        "id": "xoyYsyI4qzYR",
        "colab": {
          "base_uri": "https://localhost:8080/"
        },
        "outputId": "8aff3b47-98d0-4ded-806f-cf08380695f2"
      },
      "execution_count": 37,
      "outputs": [
        {
          "output_type": "stream",
          "name": "stdout",
          "text": [
            "z-statistic: -1.6280691715301856\n",
            "p-value: 0.10351021950900992\n",
            "Fail to reject the null hypothesis. There is no statistically significant difference in the average heights of plants grown with fertilizer X and Y.\n"
          ]
        }
      ]
    },
    {
      "cell_type": "code",
      "source": [],
      "metadata": {
        "id": "LwMWmoFUrejb"
      },
      "execution_count": null,
      "outputs": []
    },
    {
      "cell_type": "code",
      "source": [],
      "metadata": {
        "id": "pOG4by1Pr0G1"
      },
      "execution_count": null,
      "outputs": []
    },
    {
      "cell_type": "code",
      "source": [],
      "metadata": {
        "id": "X3T6Xx-ur0Jb"
      },
      "execution_count": null,
      "outputs": []
    },
    {
      "cell_type": "code",
      "source": [],
      "metadata": {
        "id": "rJP8ohrDr0MD"
      },
      "execution_count": null,
      "outputs": []
    },
    {
      "cell_type": "code",
      "source": [
        "# Null Hypothesis (H0): The average heights of plants grown with fertilizers X and Y are equal (μ₁ = μ₂).\n",
        "# Alternative Hypothesis (Ha): The average heights of plants grown with fertilizers X and Y are different (μ₁ ≠ μ₂).\n",
        "\n",
        "from statsmodels.stats import weightstats as stests\n",
        "\n",
        "# Group A heights\n",
        "heights_a = [162, 164, 168, 170, 174, 176, 180, 182, 186, 188, 192, 194, 198, 200, 204, 206, 210, 212, 216, 218, 222, 224, 228, 230, 234, 236, 240, 242, 246, 248, 252, 254, 258, 260, 264, 266, 270]\n",
        "\n",
        "# Group B heights\n",
        "heights_b = [158, 162, 166, 170, 174, 178, 182, 186, 190, 194, 198, 202, 206, 210, 214, 218, 222, 226, 230, 234, 238, 242, 246, 250, 254, 258, 262, 266, 270, 274, 278, 282, 286, 290, 294, 298, 302]\n",
        "\n",
        "# Significance level\n",
        "alpha = 0.1\n"
      ],
      "metadata": {
        "id": "wWfrhkd2rypY"
      },
      "execution_count": null,
      "outputs": []
    },
    {
      "cell_type": "code",
      "source": [],
      "metadata": {
        "id": "FjSQP5x-rymp"
      },
      "execution_count": null,
      "outputs": []
    },
    {
      "cell_type": "code",
      "source": [],
      "metadata": {
        "id": "wYFc1eJgr7Dd"
      },
      "execution_count": null,
      "outputs": []
    },
    {
      "cell_type": "markdown",
      "source": [
        "## One Sample Z-proportion test framework\n",
        "\n",
        "Question:\n",
        "```\n",
        "You are a product manager for a company that has recently launched a new product.\n",
        "Customer satisfaction is a critical metric.\n",
        "You want to determine if the proportion of satisfied customers with the new product meets your target satisfaction level of 70%.\n",
        "You collected a random sample of 150 customer reviews, and 115 of them expressed satisfaction with the product.\n",
        "```"
      ],
      "metadata": {
        "id": "Y-COdVY8sshs"
      }
    },
    {
      "cell_type": "code",
      "source": [],
      "metadata": {
        "id": "o55KoJ3Vs0lT"
      },
      "execution_count": null,
      "outputs": []
    },
    {
      "cell_type": "code",
      "source": [],
      "metadata": {
        "id": "47PSxNW7ydA0"
      },
      "execution_count": null,
      "outputs": []
    }
  ]
}