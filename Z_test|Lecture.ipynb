{
  "nbformat": 4,
  "nbformat_minor": 0,
  "metadata": {
    "colab": {
      "provenance": [],
      "authorship_tag": "ABX9TyNA1Vq7Ob5dYdzEVKFpL0Kh",
      "include_colab_link": true
    },
    "kernelspec": {
      "name": "python3",
      "display_name": "Python 3"
    },
    "language_info": {
      "name": "python"
    }
  },
  "cells": [
    {
      "cell_type": "markdown",
      "metadata": {
        "id": "view-in-github",
        "colab_type": "text"
      },
      "source": [
        "<a href=\"https://colab.research.google.com/github/SachinScaler/Oct24HypothesisTesting/blob/main/Z_test%7CLecture.ipynb\" target=\"_parent\"><img src=\"https://colab.research.google.com/assets/colab-badge.svg\" alt=\"Open In Colab\"/></a>"
      ]
    },
    {
      "cell_type": "markdown",
      "source": [
        "FAIR COIN"
      ],
      "metadata": {
        "id": "OiyNvXFqY2V_"
      }
    },
    {
      "cell_type": "markdown",
      "source": [
        "### Scenario 1: We toss 10 times and get Heads 7 or more times\n",
        "\n",
        "```\n",
        "Ho = Not Biased\n",
        "Ha = Biased Coin\n",
        "\n",
        "\n",
        "\n",
        "N(Head) = 7+ in 10 Trials\n",
        "\n",
        "p(val) >= 7 Heads(Right Tailed Test)\n",
        "\n",
        "Distribution: Binomial Distribution\n",
        "\n",
        "cl = 0.95\n",
        "alpha = 0.05\n",
        "```\n"
      ],
      "metadata": {
        "id": "qCsFl9QBY7rp"
      }
    },
    {
      "cell_type": "code",
      "source": [
        "from scipy.stats import binom\n",
        "\n",
        "\n",
        "p = binom.pmf(7, 10, 0.5) + binom.pmf(8, 10, 0.5) +  binom.pmf(9, 10, 0.5) +  binom.pmf(10, 10, 0.5)\n",
        "p"
      ],
      "metadata": {
        "colab": {
          "base_uri": "https://localhost:8080/"
        },
        "id": "YiSz1_BHYw2J",
        "outputId": "31bf1cf0-15f4-4be1-a8d3-144774776fb6"
      },
      "execution_count": 7,
      "outputs": [
        {
          "output_type": "execute_result",
          "data": {
            "text/plain": [
              "0.17187500000000003"
            ]
          },
          "metadata": {},
          "execution_count": 7
        }
      ]
    },
    {
      "cell_type": "code",
      "source": [
        "1 - binom.cdf(6, 10, 0.5)"
      ],
      "metadata": {
        "colab": {
          "base_uri": "https://localhost:8080/"
        },
        "id": "zKEjozzAZCFB",
        "outputId": "79f81bc1-e569-46b1-c608-27b6086f0086"
      },
      "execution_count": 9,
      "outputs": [
        {
          "output_type": "execute_result",
          "data": {
            "text/plain": [
              "0.171875"
            ]
          },
          "metadata": {},
          "execution_count": 9
        }
      ]
    },
    {
      "cell_type": "markdown",
      "source": [
        "### 17 % or more of chance that you will get 7 or more gead ins 10 trials"
      ],
      "metadata": {
        "id": "ZIHqxQmcguHJ"
      }
    },
    {
      "cell_type": "code",
      "source": [],
      "metadata": {
        "id": "TJoXsr5tZCH2"
      },
      "execution_count": null,
      "outputs": []
    },
    {
      "cell_type": "markdown",
      "source": [
        "Scenario 2: We toss 100 times and get Heads 70 or more times.\n"
      ],
      "metadata": {
        "id": "kdANi-YBY8nj"
      }
    },
    {
      "cell_type": "code",
      "source": [
        "p = 1 - binom.cdf(69, 100, 0.5)\n",
        "\n",
        "print(round(p,5)) # 0.00004 # 4e-05 (4 * 10**-5)"
      ],
      "metadata": {
        "colab": {
          "base_uri": "https://localhost:8080/"
        },
        "id": "1gIYz5beYwzR",
        "outputId": "5c1e584c-7be0-460b-b74d-5e94dc2512ba"
      },
      "execution_count": 15,
      "outputs": [
        {
          "output_type": "stream",
          "name": "stdout",
          "text": [
            "4e-05\n"
          ]
        }
      ]
    },
    {
      "cell_type": "markdown",
      "source": [
        "#### Right tailed for Firm A"
      ],
      "metadata": {
        "id": "N7tkkrCCsNtV"
      }
    },
    {
      "cell_type": "code",
      "source": [
        "# firm A\n",
        "sample_size = 50\n",
        "se = 100/(sample_size**0.5)\n",
        "z = (1850- 1800)/se\n",
        "print(z)"
      ],
      "metadata": {
        "colab": {
          "base_uri": "https://localhost:8080/"
        },
        "id": "nSd7QXiag5y3",
        "outputId": "a48b1f22-9d5a-45cd-8558-edd131610d45"
      },
      "execution_count": 18,
      "outputs": [
        {
          "output_type": "stream",
          "name": "stdout",
          "text": [
            "3.5355339059327378\n"
          ]
        }
      ]
    },
    {
      "cell_type": "code",
      "source": [
        "from scipy.stats import norm\n",
        "norm.cdf(z)"
      ],
      "metadata": {
        "colab": {
          "base_uri": "https://localhost:8080/"
        },
        "id": "rNdu2Dppg51U",
        "outputId": "ce43c05d-0899-4156-931d-042507ee4fd6"
      },
      "execution_count": 22,
      "outputs": [
        {
          "output_type": "execute_result",
          "data": {
            "text/plain": [
              "0.9873263406612659"
            ]
          },
          "metadata": {},
          "execution_count": 22
        }
      ]
    },
    {
      "cell_type": "code",
      "source": [
        "p_val = 1 - norm.cdf(z)\n",
        "p_val"
      ],
      "metadata": {
        "colab": {
          "base_uri": "https://localhost:8080/"
        },
        "id": "MswngCHLg536",
        "outputId": "179f3c19-b8fb-4381-9c64-014a57145375"
      },
      "execution_count": 23,
      "outputs": [
        {
          "output_type": "execute_result",
          "data": {
            "text/plain": [
              "0.0126736593387341"
            ]
          },
          "metadata": {},
          "execution_count": 23
        }
      ]
    },
    {
      "cell_type": "code",
      "source": [
        "# firm B\n",
        "sample_size = 5\n",
        "se = 100/(sample_size**0.5)\n",
        "z = (1900- 1800)/se\n",
        "print(z)"
      ],
      "metadata": {
        "colab": {
          "base_uri": "https://localhost:8080/"
        },
        "id": "5AEWZzROg56z",
        "outputId": "270e410c-cc32-4cf2-c2d0-7d2b089c1a3a"
      },
      "execution_count": 24,
      "outputs": [
        {
          "output_type": "stream",
          "name": "stdout",
          "text": [
            "2.23606797749979\n"
          ]
        }
      ]
    },
    {
      "cell_type": "code",
      "source": [
        "p_val = 1 - norm.cdf(z)\n",
        "p_val"
      ],
      "metadata": {
        "colab": {
          "base_uri": "https://localhost:8080/"
        },
        "id": "ubE72ph-Ywwh",
        "outputId": "919845b7-bba4-4a37-92c7-232f8465e784"
      },
      "execution_count": 25,
      "outputs": [
        {
          "output_type": "execute_result",
          "data": {
            "text/plain": [
              "0.0126736593387341"
            ]
          },
          "metadata": {},
          "execution_count": 25
        }
      ]
    },
    {
      "cell_type": "code",
      "source": [
        "# Given information\n",
        "population_mean =  8000 # average steps per day\n",
        "population_std_dev = 1200  # standard deviation\n",
        "sample_size = 30  # sample size\n",
        "sample_mean = 7600  # sample mean\n",
        "alpha = 0.05 # significance level"
      ],
      "metadata": {
        "id": "5cY5bAotwbdQ"
      },
      "execution_count": 26,
      "outputs": []
    },
    {
      "cell_type": "code",
      "source": [
        "# Calculate the z-score\n",
        "\n",
        "se = (population_std_dev / np.sqrt(sample_size))\n",
        "z_score = (sample_mean - population_mean) / se\n",
        "\n",
        "# calculate p value\n",
        "pval = norm.cdf(z_score)\n",
        "pval"
      ],
      "metadata": {
        "colab": {
          "base_uri": "https://localhost:8080/"
        },
        "id": "a8_3dLhrwbax",
        "outputId": "47fa79d5-c415-4b15-b82e-f137f96f6cde"
      },
      "execution_count": 29,
      "outputs": [
        {
          "output_type": "execute_result",
          "data": {
            "text/plain": [
              "0.033944577430914516"
            ]
          },
          "metadata": {},
          "execution_count": 29
        }
      ]
    },
    {
      "cell_type": "code",
      "source": [
        "# Compare the calculated z-score with the critical z-value\n",
        "if pval < alpha:\n",
        "    conclusion = \"Reject the null hypothesis.\"\n",
        "else:\n",
        "    conclusion = \"Fail to reject the null hypothesis.\"\n",
        "\n",
        "print(\"z-score:\", z_score)\n",
        "print(\"p-value:\", pval)\n",
        "print(conclusion)"
      ],
      "metadata": {
        "colab": {
          "base_uri": "https://localhost:8080/"
        },
        "id": "12D8X195wbX_",
        "outputId": "1c3fedab-6232-4f05-c8b8-f3e85b1c9c80"
      },
      "execution_count": 30,
      "outputs": [
        {
          "output_type": "stream",
          "name": "stdout",
          "text": [
            "z-score: -1.8257418583505536\n",
            "p-value: 0.033944577430914516\n",
            "Reject the null hypothesis.\n"
          ]
        }
      ]
    },
    {
      "cell_type": "markdown",
      "source": [
        "### Critical Value\n"
      ],
      "metadata": {
        "id": "Xy7cJc_gzYcq"
      }
    },
    {
      "cell_type": "code",
      "source": [
        "z = norm.ppf(0.99)\n",
        "z"
      ],
      "metadata": {
        "colab": {
          "base_uri": "https://localhost:8080/"
        },
        "id": "mt-nMjVXwbVW",
        "outputId": "366c87d4-4fac-4e49-ed1f-9210771df4fd"
      },
      "execution_count": 31,
      "outputs": [
        {
          "output_type": "execute_result",
          "data": {
            "text/plain": [
              "2.3263478740408408"
            ]
          },
          "metadata": {},
          "execution_count": 31
        }
      ]
    },
    {
      "cell_type": "code",
      "source": [
        "x = z * (100 / np.sqrt(50)) + 1800\n",
        "x"
      ],
      "metadata": {
        "colab": {
          "base_uri": "https://localhost:8080/"
        },
        "id": "I0KxWrXWwbTG",
        "outputId": "4c00da97-67be-436c-8c70-2fcb041ff4f8"
      },
      "execution_count": 33,
      "outputs": [
        {
          "output_type": "execute_result",
          "data": {
            "text/plain": [
              "1832.8995271426638"
            ]
          },
          "metadata": {},
          "execution_count": 33
        }
      ]
    },
    {
      "cell_type": "code",
      "source": [
        "# quiz\n",
        "z = norm.ppf(0.95)"
      ],
      "metadata": {
        "id": "T4vskSbH24UE"
      },
      "execution_count": 35,
      "outputs": []
    },
    {
      "cell_type": "code",
      "source": [
        "X = 15*z + 60\n",
        "X"
      ],
      "metadata": {
        "colab": {
          "base_uri": "https://localhost:8080/"
        },
        "id": "i9oLQHdQ24Rl",
        "outputId": "329f0582-0aa1-4864-9715-112a1a20d3a8"
      },
      "execution_count": 37,
      "outputs": [
        {
          "output_type": "execute_result",
          "data": {
            "text/plain": [
              "84.67280440427209"
            ]
          },
          "metadata": {},
          "execution_count": 37
        }
      ]
    },
    {
      "cell_type": "markdown",
      "source": [],
      "metadata": {
        "id": "Ud1Tlp0k4hDN"
      }
    },
    {
      "cell_type": "code",
      "source": [],
      "metadata": {
        "id": "mtTstHL724PI"
      },
      "execution_count": null,
      "outputs": []
    },
    {
      "cell_type": "code",
      "source": [],
      "metadata": {
        "id": "aTsnKZM_24M6"
      },
      "execution_count": null,
      "outputs": []
    },
    {
      "cell_type": "code",
      "source": [],
      "metadata": {
        "id": "49ucAXMB24Kf"
      },
      "execution_count": null,
      "outputs": []
    },
    {
      "cell_type": "code",
      "source": [],
      "metadata": {
        "id": "G-4u0NiOwbQa"
      },
      "execution_count": null,
      "outputs": []
    },
    {
      "cell_type": "markdown",
      "source": [
        "## Two Tailed Test and Confidence Intervals\n",
        "\n",
        "CI FOR Z TEST"
      ],
      "metadata": {
        "id": "aB8TfhqlYxlw"
      }
    },
    {
      "cell_type": "code",
      "execution_count": 44,
      "metadata": {
        "id": "292b6W9YH_Mq"
      },
      "outputs": [],
      "source": [
        "import numpy as np\n",
        "from scipy.stats import norm\n",
        "\n",
        "# Given data\n",
        "sample_mean = 1850\n",
        "population_stddev = 100\n",
        "sample_size = 50\n",
        "alpha = 0.01  # Significance level for two-tailed test (99% confidence)"
      ]
    },
    {
      "cell_type": "code",
      "source": [
        "# Calculate the critical value for a two-tailed test (alpha/2 in each tail)\n",
        "z_critical = norm.ppf(1 - alpha/2)\n",
        "\n",
        "z_critical"
      ],
      "metadata": {
        "colab": {
          "base_uri": "https://localhost:8080/"
        },
        "id": "zOONY9anIH3K",
        "outputId": "7a2b2d95-5735-4ba1-9787-21bc41e1f18e"
      },
      "execution_count": 45,
      "outputs": [
        {
          "output_type": "execute_result",
          "data": {
            "text/plain": [
              "2.5758293035489004"
            ]
          },
          "metadata": {},
          "execution_count": 45
        }
      ]
    },
    {
      "cell_type": "code",
      "source": [],
      "metadata": {
        "id": "MNrVkp2c42vK"
      },
      "execution_count": 45,
      "outputs": []
    },
    {
      "cell_type": "code",
      "source": [
        "# Calculate the margin of error\n",
        "margin_of_error = z_critical * (population_stddev / np.sqrt(sample_size))\n",
        "margin_of_error"
      ],
      "metadata": {
        "colab": {
          "base_uri": "https://localhost:8080/"
        },
        "id": "nBEgdJcX42xf",
        "outputId": "e34e9ed9-23f9-4125-80db-fb8b8852d86c"
      },
      "execution_count": 46,
      "outputs": [
        {
          "output_type": "execute_result",
          "data": {
            "text/plain": [
              "36.42772735436898"
            ]
          },
          "metadata": {},
          "execution_count": 46
        }
      ]
    },
    {
      "cell_type": "code",
      "source": [
        "# Calculate the confidence interval\n",
        "lower_bound = sample_mean - margin_of_error\n",
        "upper_bound = sample_mean + margin_of_error\n",
        "\n",
        "print(f\"Two-tailed 99% confidence interval: ({lower_bound}, {upper_bound})\")"
      ],
      "metadata": {
        "colab": {
          "base_uri": "https://localhost:8080/"
        },
        "id": "DX-Lfya5JUWW",
        "outputId": "a97ae247-c8c9-4c8d-fc0f-26c2339efd42"
      },
      "execution_count": 47,
      "outputs": [
        {
          "output_type": "stream",
          "name": "stdout",
          "text": [
            "Two-tailed 99% confidence interval: (1813.572272645631, 1886.427727354369)\n"
          ]
        }
      ]
    },
    {
      "cell_type": "code",
      "source": [
        "sample_mean"
      ],
      "metadata": {
        "colab": {
          "base_uri": "https://localhost:8080/"
        },
        "id": "3ME-JlhFJZfJ",
        "outputId": "55d627b5-659a-4b91-c1d8-b35a497fd7ac"
      },
      "execution_count": 48,
      "outputs": [
        {
          "output_type": "execute_result",
          "data": {
            "text/plain": [
              "1850"
            ]
          },
          "metadata": {},
          "execution_count": 48
        }
      ]
    },
    {
      "cell_type": "code",
      "source": [],
      "metadata": {
        "id": "Q1hFA9E98Yod"
      },
      "execution_count": null,
      "outputs": []
    }
  ]
}