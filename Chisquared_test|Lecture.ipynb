{
  "nbformat": 4,
  "nbformat_minor": 0,
  "metadata": {
    "colab": {
      "provenance": [],
      "authorship_tag": "ABX9TyMvBDzjb8p/t8qT/B6aC/dT",
      "include_colab_link": true
    },
    "kernelspec": {
      "name": "python3",
      "display_name": "Python 3"
    },
    "language_info": {
      "name": "python"
    }
  },
  "cells": [
    {
      "cell_type": "markdown",
      "metadata": {
        "id": "view-in-github",
        "colab_type": "text"
      },
      "source": [
        "<a href=\"https://colab.research.google.com/github/SachinScaler/Oct24HypothesisTesting/blob/main/Chisquared_test%7CLecture.ipynb\" target=\"_parent\"><img src=\"https://colab.research.google.com/assets/colab-badge.svg\" alt=\"Open In Colab\"/></a>"
      ]
    },
    {
      "cell_type": "code",
      "execution_count": null,
      "metadata": {
        "id": "S0D8Olqh5TZJ"
      },
      "outputs": [],
      "source": [
        "import numpy as np\n",
        "import pandas as pd\n",
        "import seaborn as sns\n",
        "import matplotlib.pyplot as plt\n",
        "\n",
        "from scipy.stats import chisquare # Statistical test (chistat, pvalue)\n",
        "from scipy.stats import chi2"
      ]
    },
    {
      "cell_type": "markdown",
      "source": [
        "Step1: Defining Hypotheses\n",
        "\n",
        "```\n",
        "H0: Fair Coin\n",
        "H1: Baised Coin\n",
        "```"
      ],
      "metadata": {
        "id": "OVn2Doi-KMkZ"
      }
    },
    {
      "cell_type": "markdown",
      "source": [
        "Step2: Chi-Square Distribution\n",
        "\n",
        "Step3: Right Tailed\n",
        "\n",
        "Step4: Compute Test Statistics\n"
      ],
      "metadata": {
        "id": "YsYv83IyKZaP"
      }
    },
    {
      "cell_type": "code",
      "source": [
        "observed = [28, 22]\n",
        "expected = [25, 25]\n",
        "\n",
        "from scipy.stats import chisquare # Statistical test (chistat, pvalue)\n",
        "\n",
        "chi_stat, p_val = chisquare(observed, expected)\n",
        "print(\"Chi Statistic:\", chi_stat)\n",
        "print(\"P-Value:\", p_val)"
      ],
      "metadata": {
        "colab": {
          "base_uri": "https://localhost:8080/"
        },
        "id": "RSgZqjDGJozu",
        "outputId": "f08ac4e4-0464-46e6-d84a-f593c581170d"
      },
      "execution_count": null,
      "outputs": [
        {
          "output_type": "stream",
          "name": "stdout",
          "text": [
            "Chi Statistic: 0.72\n",
            "P-Value: 0.3961439091520741\n"
          ]
        }
      ]
    },
    {
      "cell_type": "markdown",
      "source": [
        "### Step5: Compare p_value with alpha"
      ],
      "metadata": {
        "id": "lLCLV1rgLZkN"
      }
    },
    {
      "cell_type": "code",
      "source": [
        "alpha = 0.05\n",
        "\n",
        "if p_val < alpha:\n",
        "    print(\"Reject H0\")\n",
        "    print(\"Coin is baised\")\n",
        "else:\n",
        "    print(\"Fail to reject H0\")\n",
        "    print(\"Coin is fair\")"
      ],
      "metadata": {
        "colab": {
          "base_uri": "https://localhost:8080/"
        },
        "id": "ut7N9UfvLCXl",
        "outputId": "46381a48-8917-4a18-e4b1-6b2e006e1e41"
      },
      "execution_count": null,
      "outputs": [
        {
          "output_type": "stream",
          "name": "stdout",
          "text": [
            "Fail to reject H0\n",
            "Coin is fair\n"
          ]
        }
      ]
    },
    {
      "cell_type": "markdown",
      "source": [
        "### Let's implement manually"
      ],
      "metadata": {
        "id": "dgzJA1n8LtAp"
      }
    },
    {
      "cell_type": "code",
      "source": [
        "from scipy.stats import chi2\n",
        "\n",
        "\n",
        "chi2.cdf(0.56, df = 1)"
      ],
      "metadata": {
        "colab": {
          "base_uri": "https://localhost:8080/"
        },
        "id": "sXrr6yesLmPB",
        "outputId": "2ea6e4b5-3ceb-4cc3-8c7e-7cf51d5c41a1"
      },
      "execution_count": null,
      "outputs": [
        {
          "output_type": "execute_result",
          "data": {
            "text/plain": [
              "0.5457397574331813"
            ]
          },
          "metadata": {},
          "execution_count": 7
        }
      ]
    },
    {
      "cell_type": "markdown",
      "source": [
        "### let's calculate test(chi) statistic first"
      ],
      "metadata": {
        "id": "xYgMxsELMezk"
      }
    },
    {
      "cell_type": "code",
      "source": [
        "observed = [28, 22]\n",
        "expected = [25, 25]\n",
        "\n",
        "chi_stat = ((28-25)**2)/25 + ((22-25)**2)/25\n",
        "print(\"Chi Statistic:\", chi_stat)"
      ],
      "metadata": {
        "colab": {
          "base_uri": "https://localhost:8080/"
        },
        "id": "S4kV3Nb1MeYk",
        "outputId": "fea44af8-3f3d-4313-fb90-6c1d10dc9685"
      },
      "execution_count": null,
      "outputs": [
        {
          "output_type": "stream",
          "name": "stdout",
          "text": [
            "Chi Statistic: 0.72\n"
          ]
        }
      ]
    },
    {
      "cell_type": "code",
      "source": [
        "cdf = chi2.cdf(chi_stat, df = 1)\n",
        "print(\"CDF:\", cdf) # area of left hand side"
      ],
      "metadata": {
        "colab": {
          "base_uri": "https://localhost:8080/"
        },
        "id": "fp_6yuK5MGwE",
        "outputId": "027b5f46-cb4e-4738-9d44-5ff14a1f6e4b"
      },
      "execution_count": null,
      "outputs": [
        {
          "output_type": "stream",
          "name": "stdout",
          "text": [
            "CDF: 0.6038560908479259\n"
          ]
        }
      ]
    },
    {
      "cell_type": "code",
      "source": [
        "# area on right i.e. Remaining Area\n",
        "p_val = 1 - cdf\n",
        "p_val"
      ],
      "metadata": {
        "colab": {
          "base_uri": "https://localhost:8080/"
        },
        "id": "RyCB52ccM39N",
        "outputId": "d6f20a48-deec-49f6-99a0-80505740afeb"
      },
      "execution_count": null,
      "outputs": [
        {
          "output_type": "execute_result",
          "data": {
            "text/plain": [
              "0.3961439091520741"
            ]
          },
          "metadata": {},
          "execution_count": 14
        }
      ]
    },
    {
      "cell_type": "markdown",
      "source": [
        "### Critical Value Calculation:"
      ],
      "metadata": {
        "id": "Krxv92vnNdEc"
      }
    },
    {
      "cell_type": "code",
      "source": [
        "cl = chi2.ppf(0.95, df=1)\n",
        "cl"
      ],
      "metadata": {
        "colab": {
          "base_uri": "https://localhost:8080/"
        },
        "id": "wvDX-_2wNhZB",
        "outputId": "9a8b03f0-5bc3-4d90-b759-d15d321b02a8"
      },
      "execution_count": null,
      "outputs": [
        {
          "output_type": "execute_result",
          "data": {
            "text/plain": [
              "3.841458820694124"
            ]
          },
          "metadata": {},
          "execution_count": 15
        }
      ]
    },
    {
      "cell_type": "code",
      "source": [
        "chi_stat"
      ],
      "metadata": {
        "colab": {
          "base_uri": "https://localhost:8080/"
        },
        "id": "gDzbT3bVN3-k",
        "outputId": "3b5ca15f-81ec-4616-8b83-d9c6da608e83"
      },
      "execution_count": null,
      "outputs": [
        {
          "output_type": "execute_result",
          "data": {
            "text/plain": [
              "0.72"
            ]
          },
          "metadata": {},
          "execution_count": 16
        }
      ]
    },
    {
      "cell_type": "markdown",
      "source": [
        "HW Follow up:\n",
        "\n",
        "Test the below Observation:\n",
        "```\n",
        "    [45, 5], # Observed or actual\n",
        "    [25, 25], # Expected\n",
        "```"
      ],
      "metadata": {
        "id": "BeyRu2NVNPDS"
      }
    },
    {
      "cell_type": "markdown",
      "source": [
        "### Chi_SQ: Test of Independence\n",
        "\n",
        "```\n",
        "Imagine you are running a Marketing Campaign in your company.\n",
        "\n",
        "There are 2 modes through which customers can purchase the company's products: Offline and Online.\n",
        "\n",
        "Your goal is to run a campaign that aims at increasing the number of online purchases.\n",
        "```"
      ],
      "metadata": {
        "id": "Igy5vtWeSHzS"
      }
    },
    {
      "cell_type": "markdown",
      "source": [
        "Consultancy Firm: For Online Campaign, we should focus on Women"
      ],
      "metadata": {
        "id": "FfMVvSFySV6c"
      }
    },
    {
      "cell_type": "markdown",
      "source": [
        "The Claim here is : There is a dependency between `purchase_style and Gender`"
      ],
      "metadata": {
        "id": "0llltBKUSs_M"
      }
    },
    {
      "cell_type": "code",
      "source": [
        "0.66 * 734"
      ],
      "metadata": {
        "colab": {
          "base_uri": "https://localhost:8080/"
        },
        "id": "C-Yrk2MMM83T",
        "outputId": "66415720-c658-4879-9701-0633eba45d93"
      },
      "execution_count": null,
      "outputs": [
        {
          "output_type": "execute_result",
          "data": {
            "text/plain": [
              "484.44"
            ]
          },
          "metadata": {},
          "execution_count": 17
        }
      ]
    },
    {
      "cell_type": "markdown",
      "source": [
        "#### Python Implementation for chi2_test of independene"
      ],
      "metadata": {
        "id": "L6f6Ir-wV1Rl"
      }
    },
    {
      "cell_type": "code",
      "source": [
        "observed = [\n",
        "    [527, 72],\n",
        "    [206, 102],\n",
        "    ]\n",
        "\n",
        "\n",
        "from scipy.stats import chi2_contingency\n",
        "\n",
        "chi2, p, dof, expected = chi2_contingency(observed)\n",
        "print(\"Chi2 Statistic:\", chi2)\n",
        "print(\"P-Value:\", p)\n",
        "print(\"Degrees of Freedom:\", dof)\n",
        "print(\"Expected Frequencies:\", expected)"
      ],
      "metadata": {
        "colab": {
          "base_uri": "https://localhost:8080/"
        },
        "id": "X6OFBy4kUmGw",
        "outputId": "1e4f0096-5368-4700-f637-7dff92f665a2"
      },
      "execution_count": null,
      "outputs": [
        {
          "output_type": "stream",
          "name": "stdout",
          "text": [
            "Chi2 Statistic: 57.04098674049609\n",
            "P-Value: 4.268230756875865e-14\n",
            "Degrees of Freedom: 1\n",
            "Expected Frequencies: [[484.08710033 114.91289967]\n",
            " [248.91289967  59.08710033]]\n"
          ]
        }
      ]
    },
    {
      "cell_type": "code",
      "source": [
        "alpha = 0.05\n",
        "\n",
        "if p < alpha:\n",
        "    print(\"Reject H0\")\n",
        "    print(\"Gender and preference are not independent\")\n",
        "else:\n",
        "    print(\"Fail to reject H0\")\n",
        "    print(\"Gender and preference are independent\")\n"
      ],
      "metadata": {
        "colab": {
          "base_uri": "https://localhost:8080/"
        },
        "id": "-3ONsIzbWLPT",
        "outputId": "c28472a0-829b-4cfa-ae45-3bf011602c25"
      },
      "execution_count": null,
      "outputs": [
        {
          "output_type": "stream",
          "name": "stdout",
          "text": [
            "Reject H0\n",
            "Gender and preference are not independent\n"
          ]
        }
      ]
    },
    {
      "cell_type": "markdown",
      "source": [
        "### HW Aerofit: Test of Independence\n",
        "\n"
      ],
      "metadata": {
        "id": "PIr8mfRiWWqw"
      }
    },
    {
      "cell_type": "code",
      "source": [],
      "metadata": {
        "id": "qRvApqsNWP2o"
      },
      "execution_count": null,
      "outputs": []
    }
  ]
}